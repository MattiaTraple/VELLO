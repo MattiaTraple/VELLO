{
 "cells": [
  {
   "cell_type": "code",
   "execution_count": 1,
   "metadata": {},
   "outputs": [],
   "source": [
    "import chromadb\n",
    "import os\n",
    "import json\n",
    "# Uso questa libreria per cambiare LLM\n",
    "from chromadb.utils import embedding_functions\n",
    "chroma_client = chromadb.Client()"
   ]
  },
  {
   "cell_type": "code",
   "execution_count": null,
   "metadata": {},
   "outputs": [],
   "source": [
    "# Vado a recuperare dal file topic i topic, in modo da inserirli nel database \n",
    "with open('data/topic.json', 'r') as f:\n",
    "    topic_data = json.load(f)\n",
    "\n",
    "documents=[]\n",
    "metadatas=[]\n",
    "ids=[]\n",
    "id=1\n",
    "\n",
    "\n",
    "for topic in topic_data:\n",
    "    for top in topic_data[topic]:\n",
    "        metadatas.append({\"source\":\"topic.json\"})\n",
    "        documents.append(top)\n",
    "        ids.append(str(id))\n",
    "        id+=1\n",
    "    \n",
    "documents"
   ]
  },
  {
   "cell_type": "code",
   "execution_count": 3,
   "metadata": {},
   "outputs": [],
   "source": [
    "# Cambio LLM usato-> di base è \"all-MiniLM-L6-v2\"\n",
    "sentence_transformer_ef = embedding_functions.SentenceTransformerEmbeddingFunction(model_name=\"all-mpnet-base-v2\")\n",
    "# Crea database -> gli comunico llm che voglio\n",
    "collection = chroma_client.create_collection(name=\"my_collection\", embedding_function=sentence_transformer_ef)\n",
    "#collection = chroma_client.create_collection(name=\"my_collection\")"
   ]
  },
  {
   "cell_type": "code",
   "execution_count": 4,
   "metadata": {},
   "outputs": [],
   "source": [
    "#sto anddando ad insesire 2 nuovi elementi con il rispettivo document, source ed id\n",
    "collection.add(\n",
    "    documents=documents,\n",
    "    metadatas=metadatas,\n",
    "    ids=ids\n",
    ")"
   ]
  },
  {
   "cell_type": "code",
   "execution_count": 5,
   "metadata": {},
   "outputs": [
    {
     "data": {
      "text/plain": [
       "{'ids': [['94', '77', '96', '76', '98']],\n",
       " 'distances': [[0.8766587972640991,\n",
       "   0.9156837463378906,\n",
       "   0.9362766742706299,\n",
       "   0.9479689598083496,\n",
       "   0.9770452380180359]],\n",
       " 'metadatas': [[{'source': 'topic.json'},\n",
       "   {'source': 'topic.json'},\n",
       "   {'source': 'topic.json'},\n",
       "   {'source': 'topic.json'},\n",
       "   {'source': 'topic.json'}]],\n",
       " 'embeddings': None,\n",
       " 'documents': [['Pianificazione pensionistica',\n",
       "   'Cura dei gatti',\n",
       "   'Consigli di relazione',\n",
       "   'Addestramento dei cani',\n",
       "   'Consigli per appuntamenti']],\n",
       " 'uris': None,\n",
       " 'data': None}"
      ]
     },
     "execution_count": 5,
     "metadata": {},
     "output_type": "execute_result"
    }
   ],
   "source": [
    "# utilizzo la query per recuperarlo, tentendo conto che non sto andando a cercare precisamente\n",
    "# quello ceh c'è scritto in un documenti, quindi verrà calcolata una sorta di distanza  \n",
    "results = collection.query(\n",
    "    # questa è la query che utilizzerò in base alle operazion iche devo svolgere\n",
    "    query_texts=[\"\"],\n",
    "    n_results=5,\n",
    "    # Scelgo i campi che voglio mi vengano tornati\n",
    "    include=['distances','metadatas','documents']\n",
    ")\n",
    "# la query restituirà una distance che più è piccola più il contenuto che sto cercando sarà simile a quello comaprato\n",
    "results"
   ]
  }
 ],
 "metadata": {
  "kernelspec": {
   "display_name": "Python 3",
   "language": "python",
   "name": "python3"
  },
  "language_info": {
   "codemirror_mode": {
    "name": "ipython",
    "version": 3
   },
   "file_extension": ".py",
   "mimetype": "text/x-python",
   "name": "python",
   "nbconvert_exporter": "python",
   "pygments_lexer": "ipython3",
   "version": "3.12.1"
  }
 },
 "nbformat": 4,
 "nbformat_minor": 2
}
