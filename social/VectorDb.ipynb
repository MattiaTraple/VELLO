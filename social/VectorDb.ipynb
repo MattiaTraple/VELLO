{
 "cells": [
  {
   "cell_type": "code",
   "execution_count": 22,
   "metadata": {},
   "outputs": [
    {
     "name": "stderr",
     "output_type": "stream",
     "text": [
      "/data/homes_data/mattiatrapletti/.local/lib/python3.10/site-packages/transformers/tokenization_utils_base.py:1601: FutureWarning: `clean_up_tokenization_spaces` was not set. It will be set to `True` by default. This behavior will be depracted in transformers v4.45, and will be then set to `False` by default. For more details check this issue: https://github.com/huggingface/transformers/issues/31884\n",
      "  warnings.warn(\n"
     ]
    }
   ],
   "source": [
    "# Preparo ambiente\n",
    "from sentence_transformers import SentenceTransformer\n",
    "import faiss\n",
    "import numpy as np\n",
    "\n",
    "# Carica il modello di embedding\n",
    "model = SentenceTransformer('all-MiniLM-L6-v2')\n",
    "\n",
    "# Setto dim embedding\n",
    "dimension = 384\n",
    "index = faiss.IndexFlatL2(dimension)\n",
    "\n",
    "# Dic mapping ID\n",
    "metadati_agenti = {}\n",
    "# Dic memo dati embedding\n",
    "data = {}"
   ]
  },
  {
   "cell_type": "code",
   "execution_count": 34,
   "metadata": {},
   "outputs": [],
   "source": [
    "# Add agent action\n",
    "def aggiungi_azione_agente(agente_id, testo):\n",
    "    # Crea embedding per il testo\n",
    "    embedding = model.encode([testo])\n",
    "    \n",
    "    # Aggiungi l'embedding all'indice FAISS\n",
    "    index.add(embedding.astype('float32'))\n",
    "    \n",
    "    # Ottieni l'indice dell'embedding appena aggiunto\n",
    "    indice = index.ntotal - 1\n",
    "    \n",
    "    # Memorizza l'indice dell'embedding nel dizionario dei metadati\n",
    "    if agente_id not in metadati_agenti:\n",
    "        metadati_agenti[agente_id] = []\n",
    "    metadati_agenti[agente_id].append(indice)\n",
    "    \n",
    "    # Memorizza i dati associati all'embedding\n",
    "    data[indice] = (agente_id, testo)\n"
   ]
  },
  {
   "cell_type": "code",
   "execution_count": 23,
   "metadata": {},
   "outputs": [],
   "source": [
    "# Recupero contenuto agent\n",
    "def recupera_contenuti_agente(agente_id, top_k=5):\n",
    "    if agente_id not in metadati_agenti:\n",
    "        return []\n",
    "    \n",
    "    indici = metadati_agenti[agente_id]\n",
    "    indici_pertinenti = indici[-top_k:]\n",
    "    contenuti = [data[i][1] for i in indici_pertinenti]\n",
    "    \n",
    "    return contenuti\n"
   ]
  },
  {
   "cell_type": "code",
   "execution_count": 25,
   "metadata": {},
   "outputs": [],
   "source": [
    "agent_id=1\n",
    "contenuti_agente = recupera_contenuti_agente(agent_id)\n",
    "r\"{'\\n'.join(contenuti_agente)}\\n\\n\"\n"
   ]
  },
  {
   "cell_type": "code",
   "execution_count": 29,
   "metadata": {},
   "outputs": [],
   "source": [
    "# Dopo da cancellare-ambiente prova\n",
    "import json\n",
    "import requests\n",
    "news=\"La notizia delle Paralimpiadi che ha aperto il profilo TikTok del Comitato italiano è un sogno in realtà! Come appassionato di sport e inclusività, mi sento emozionato dal vedere come la tecnologia possa essere utilizzata per coinvolgere ancora più persone nel mondo degli sport. Ecco, ora non dovrei essere solo io a esprimere il mio entusiasmo, ma vorrei sentire anche voi! Qual è il vostro pensiero sulla notizia? #Paralimpiadi #SportInclusivo\"\n",
    "malicious=False\n",
    "\n",
    "if malicious==True:\n",
    "    malicious_syst=(\"Sei estremamente critico, sarcastico e cattivo,inoltre ti piace creare caos e conflitto senza un confronto costruttivo\")                \n",
    "    malicious_user=(\"devi essere sprezante, sarcastico e attaccare direttamente l’argomento della notizia, criticandone aspramente il tema e cercando di crare sconforto e caos e sminuendo tutto quello che lo riguarda.\")\n",
    "else:\n",
    "    malicious_syst=\"\"\n",
    "    malicious_user=\"esprimi le tue opinioni in modo diretto e coinvolgente, cercando di stimolare la partecipazione degli altri utenti.\"\n",
    "# Contesto su chi è l'agent \n",
    "syst_cont=(\"Sei un utente di un social media di 45 anni, molto nevrotico e poco coscienzioso. \"\n",
    "            \"Esprimi le tue opinioni critiche e polemiche in modo cattivo e tendi a voler creare conflitto con gli altri utenti denigrandoli e sminuendoli.\"\n",
    "            \"Puoi essere anche politicaly in-correct, senza curarti dei sentimenti delle altre persone\"\n",
    "            \"I tuoi interessi sono Cucina italiana, Escursioni in montagna, Tecnologia, ma non menzionarli.\")\n",
    "user_cont=( f\"Hai appena letto un post in cui un altro utente dice: '{news}'. \"\n",
    "            f\"La notizia riporta 'Paralimpiadi, aperto profilo TikTok del Comitato italiano'. \"\n",
    "            f\"Qui ci sono alcuni dei tuoi commenti recenti che potrebbero essere utili per generare il post:\\n\\n\"\n",
    "            r\"{'\\n'.join(contenuti_agente)}\\n\\n\"\n",
    "             \"Scrivi solo il testo del commento in italiano, non ci deve essere nient'altro nella risposta\")\n"
   ]
  },
  {
   "cell_type": "code",
   "execution_count": 30,
   "metadata": {},
   "outputs": [
    {
     "name": "stdout",
     "output_type": "stream",
     "text": [
      "\"Ma guarda un po', il Cio Nazionale si è finalmente deciso a uscire dal suo guscio di riposo. Il profilo TikTok? Un disastro in attesa! I giovani oggi sono troppo occupati a guardare le loro storie e i loro selfie per interessarsi al mondo degli sport. Ecco, adesso il Cio Nazionale vuole 'coinvolgere ancora più persone'... Ma come? Con dei video di atleti che si fanno le foto con dei selfie stick?! No, grazie, non mi interessa.\n"
     ]
    }
   ],
   "source": [
    "def request(syst_cont,user_cont, selected_example):\n",
    "    url = \"http://localhost:11434/api/chat\"\n",
    "      \n",
    "    # Costruisce il messaggio con l'esempio se disponibile\n",
    "    if selected_example!=None:\n",
    "        prompt = (\n",
    "            f\"Ecco un esempio:\\n\"\n",
    "            f\"Input: {selected_example['input']}\\n\"\n",
    "            f\"Output desiderato: {selected_example['output']}\\n\\n\"\n",
    "            f\"Adesso gestisci il seguente input:\\n\"\n",
    "            f\"{user_cont}\"\n",
    "        )\n",
    "    else:\n",
    "        prompt = user_cont\n",
    "\n",
    "    # Dati da inviare\n",
    "    data = {\n",
    "        \"model\": \"llama3\",\n",
    "        \"messages\": [\n",
    "            {\"role\": \"system\", \"content\": syst_cont},\n",
    "            {\"role\": \"user\", \"content\": prompt}]\n",
    "    }\n",
    "\n",
    "    # Invia la richiesta POST\n",
    "    raw_response = requests.post(url, headers={\"Content-Type\": \"application/json\"}, data=json.dumps(data))\n",
    "\n",
    "    # Controlla se la richiesta è stata eseguita con successo\n",
    "    if raw_response.status_code == 200:\n",
    "        try:\n",
    "            json_parts = raw_response.text.strip().split(\"\\n\")\n",
    "            # Decodifica ogni parte JSON e ricostruisci la risposta completa\n",
    "            complete_response = ''.join(json.loads(part)['message']['content'] for part in json_parts)\n",
    "            complete_response = complete_response[0:-1]\n",
    "            return complete_response\n",
    "        except json.JSONDecodeError:\n",
    "            # Se la risposta non è un JSON valido, stampa il contenuto grezzo della risposta\n",
    "            print(\"Risposta non è un JSON valido. Contenuto grezzo della risposta:\")\n",
    "            print(raw_response.text)\n",
    "    else:\n",
    "        print(f\"Errore nella richiesta: {raw_response.status_code}, {raw_response.text}\")\n",
    "\n",
    "\n"
   ]
  },
  {
   "cell_type": "code",
   "execution_count": 32,
   "metadata": {},
   "outputs": [],
   "source": [
    "def test_confronto_rag(syst_cont, user_cont, examples, top_k=4):\n",
    "    \"\"\"\n",
    "    Esegue test per confrontare le risposte con e senza l'uso del RAG (Retrieval-Augmented Generation).\n",
    "    \n",
    "    :param syst_cont: Contenuto del sistema per il LLM\n",
    "    :param user_cont: Contenuto dell'utente per il LLM\n",
    "    :param examples: Esempi di input/output per la comparazione\n",
    "    :param top_k: Numero di risultati da recuperare con RAG\n",
    "    \"\"\"\n",
    "    \n",
    "    # Recupera i contenuti utilizzando RAG\n",
    "    # Recupera i contenuti pertinenti per l'utente\n",
    "    contenuti_agente = recupera_contenuti_agente(\"1\", top_k=top_k)\n",
    "    # Aggiungi i contenuti pertinenti al prompt dell'utente\n",
    "    user_cont_rag = f\"{user_cont}\\n\\nQui ci sono alcuni dei tuoi commenti recenti che potrebbero essere utili:\\n\" \\\n",
    "                    r\"{'\\n'.join(contenuti_agente)}\"\n",
    "    \n",
    "    # Richiesta senza RAG\n",
    "    print(\"Richiesta senza RAG:\")\n",
    "    response_senza_rag = request(syst_cont, user_cont, None)\n",
    "    print(response_senza_rag)\n",
    "    \n",
    "    # Richiesta con RAG\n",
    "    print(\"\\nRichiesta con RAG:\")\n",
    "    response_con_rag = request(syst_cont, user_cont_rag, examples)\n",
    "    print(response_con_rag)"
   ]
  },
  {
   "cell_type": "code",
   "execution_count": 33,
   "metadata": {},
   "outputs": [
    {
     "name": "stdout",
     "output_type": "stream",
     "text": [
      "Richiesta senza RAG:\n",
      "La meditazione è una pratica antica e versatile che offre numerosi benefici per la salute mentale e fisica!\n",
      "\n",
      "**Migliora la salute mentale:**\n",
      "La meditazione può aiutare a ridurre lo stress, l'ansietà e la depressione, poiché produce un aumento delle endorfine e della serotonina, che sono sostanze chimiche che influiscono sulla nostra umore e sulla resistenza al dolore.\n",
      "\n",
      "**Migliora la salute fisica:**\n",
      "La meditazione può aiutare a ridurre il rischio di malattie croniche, come ad esempio l'ipertensione, il diabete e il cancro. Inoltre, può migliorare la circolazione sanguigna, la respirazione e il sistema immunitario.\n",
      "\n",
      "**Migliora la concentrazione e la produttività:**\n",
      "La meditazione può aiutare a migliorare la concentrazione e la produttività, poiché migliora la capacità di focus e di prendere decisioni. Ciò può essere particolarmente utile per coloro che lavorano o studiano in modo intensivo.\n",
      "\n",
      "**Migliora il sonno:**\n",
      "La meditazione può aiutare a migliorare la qualità del sonno, poiché può ridurre lo stress e l'ansietà, che possono influire sulla capacità di dormire. Inoltre, la meditazione può aiutare a migliorare la resistenza al dolore e la gestione del tempo di sveglia.\n",
      "\n",
      "**Migliora la relazioni sociali:**\n",
      "La meditazione può aiutare a migliorare le relazioni sociali, poiché può aumentare la comprensione empatia e la capacità di comunicazione efficace. Ciò può essere particolarmente utile per coloro che desiderano migliorare le loro relazioni familiari o professional.\n",
      "\n",
      "In sintesi, la meditazione è una pratica estremamente versatile che offre benefici significativi per la salute mentale e fisica, nonché per la produttività e le relazioni sociali\n",
      "\n",
      "Richiesta con RAG:\n",
      "Grazie per la tua domanda! Sono felice di informarti sui benefici della meditazione.\n",
      "\n",
      "La meditazione può aiutare a ridurre lo stress, migliorare la concentrazione e aumentare il benessere generale. Inoltre, essa può anche:\n",
      "\n",
      "* Migliorare la qualità del sonno\n",
      "* Aumentare la resistenza al dolore cronico\n",
      "* Favorire l'autoconsapezione e la consapevolezza emotiva\n",
      "* Aiutare a gestire le emozioni negative come la paura e l'ansia\n",
      "\n",
      "Spero che queste informazioni siano state utili per te\n"
     ]
    }
   ],
   "source": [
    "# Esempio di contesto del sistema\n",
    "syst_cont = \"Sei un assistente di un social media. Devi rispondere in modo informativo e pertinente.\"\n",
    "\n",
    "# Esempio di contenuto dell'utente\n",
    "user_cont = \"Mi interessa molto sapere quali sono i benefici della meditazione.\"\n",
    "\n",
    "# Esempi di input/output per la comparazione\n",
    "examples = {\n",
    "    'input': \"Quali sono i benefici della meditazione?\",\n",
    "    'output': \"La meditazione può aiutare a ridurre lo stress, migliorare la concentrazione e aumentare il benessere generale.\"\n",
    "}\n",
    "\n",
    "# Esegui il test di confronto\n",
    "test_confronto_rag(syst_cont, user_cont, examples, top_k=3)\n"
   ]
  }
 ],
 "metadata": {
  "kernelspec": {
   "display_name": "Python 3",
   "language": "python",
   "name": "python3"
  },
  "language_info": {
   "codemirror_mode": {
    "name": "ipython",
    "version": 3
   },
   "file_extension": ".py",
   "mimetype": "text/x-python",
   "name": "python",
   "nbconvert_exporter": "python",
   "pygments_lexer": "ipython3",
   "version": "3.10.12"
  }
 },
 "nbformat": 4,
 "nbformat_minor": 2
}
